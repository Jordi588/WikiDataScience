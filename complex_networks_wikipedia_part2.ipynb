{
 "cells": [
  {
   "cell_type": "markdown",
   "metadata": {},
   "source": [
    "# Clustering"
   ]
  },
  {
   "cell_type": "markdown",
   "metadata": {},
   "source": [
    "En aquest apartat busquem la creació de noves variables referents als autors, amb l'objectiu de definir un criteri de classificació d'aquests.\n",
    "Treballem amb una submostra aleatoria de 100.000 edicions per agilitzar el procés de càlcul."
   ]
  },
  {
   "cell_type": "code",
   "execution_count": 10,
   "metadata": {
    "collapsed": true
   },
   "outputs": [],
   "source": [
    "import pandas as pd\n",
    "import networkx as nx\n",
    "import numpy as np\n",
    "import matplotlib.pyplot as plt\n",
    "import tqdm as tqdm\n",
    "from sklearn.cluster import KMeans\n",
    "import matplotlib.pyplot as plt\n",
    "\n",
    " \n",
    "df=pd.read_csv(\"WesC_clean.csv\",sep=\",\",header=0,index_col=0)\n",
    "df = df.drop('DataN.1', 1)\n",
    "#df=df.sample(100000)\n",
    "df=df.sample(10000)\n",
    "df.Autor=df.Autor.astype(int)\n",
    "df.Autor= \"Aut. \" + df.Autor.astype(str)"
   ]
  },
  {
   "cell_type": "markdown",
   "metadata": {},
   "source": [
    "En primer lloc creem una llista de tots els articles presents a la mostra segons el nombre de modificacions que se li han fet."
   ]
  },
  {
   "cell_type": "code",
   "execution_count": 11,
   "metadata": {},
   "outputs": [
    {
     "name": "stderr",
     "output_type": "stream",
     "text": [
      "100%|█████████████████████████████████████████████████████████████████████████████| 9552/9552 [00:23<00:00, 408.76it/s]\n"
     ]
    }
   ],
   "source": [
    "llistaarticles=pd.DataFrame()\n",
    "llistaarticles[\"Nom\"]=\"\"\n",
    "llistaarticles[\"Modificacions\"]=0\n",
    "i=0\n",
    "for article in tqdm.tqdm(np.unique(df.Article.values)):\n",
    "    llistaarticles.loc[i,\"Nom\"]=article\n",
    "    llistaarticles.loc[i,\"Modificacions\"]=len(df[df.Article.values==article])\n",
    "    i=i+1"
   ]
  },
  {
   "cell_type": "markdown",
   "metadata": {},
   "source": [
    "A continuació creem un dataframe on es guardarà la informació corresponent a cadascun dels autors, amb les noves variables, que són:\n",
    "\n",
    "-El percentatge màxim de contribució total d'un article que correspon a l'autor\n",
    "\n",
    "-El percentatge mitjà de contribució d'aquest autor a tots els articles on ha contribuït\n",
    "\n",
    "-El nombre de contribucions\n",
    "\n",
    "-El nombre d'articles on ha contribuït\n",
    "\n",
    "-La relació entre contribucions i articles contribuïts\n",
    "\n",
    "-El període d'activitat de l'autor"
   ]
  },
  {
   "cell_type": "code",
   "execution_count": 12,
   "metadata": {
    "collapsed": true
   },
   "outputs": [],
   "source": [
    "llistaautors=pd.DataFrame()\n",
    "llistaautors[\"Nom\"]=\"\"\n",
    "llistaautors[\"Contribuciomaxima\"]=0\n",
    "llistaautors[\"Contribuciomitjana\"]=0\n",
    "llistaautors[\"Numerocontribucions\"]=0\n",
    "llistaautors[\"Articlescontribuits\"]=0\n",
    "llistaautors[\"Periodeactivitat\"]=0\n",
    "llistaautors[\"Contribucions/article\"]=0"
   ]
  },
  {
   "cell_type": "code",
   "execution_count": 13,
   "metadata": {},
   "outputs": [
    {
     "name": "stderr",
     "output_type": "stream",
     "text": [
      "100%|█████████████████████████████████████████████████████████████████████████████| 2774/2774 [00:13<00:00, 198.33it/s]\n"
     ]
    }
   ],
   "source": [
    "i=0\n",
    "for autor in tqdm.tqdm(np.unique(df.Autor.values)):\n",
    "    dfaux=df[df.Autor.values==autor]\n",
    "    llistaautors.loc[i,\"Nom\"]=autor\n",
    "    maxim=0\n",
    "    mitjana=0\n",
    "    for article in np.unique(dfaux.Article.values):\n",
    "        percentatge=len(dfaux[dfaux.Article.values==article])/llistaarticles.Modificacions.values[llistaarticles.Nom.values==article]    \n",
    "        mitjana=mitjana+percentatge\n",
    "        if(percentatge>maxim):\n",
    "            maxim=percentatge\n",
    "    llistaautors.loc[i,\"Contribuciomaxima\"]=maxim*100      \n",
    "    llistaautors.loc[i,\"Contribuciomitjana\"]=mitjana/len(np.unique(dfaux.Article.values))*100\n",
    "    llistaautors.loc[i,\"Articlescontribuits\"]=len(np.unique(dfaux.Article.values))\n",
    "    llistaautors.loc[i,\"Numerocontribucions\"]=len(dfaux)\n",
    "    llistaautors.loc[i,\"Periodeactivitat\"]=max(dfaux.Data.values)-min(dfaux.Data.values)    \n",
    "    llistaautors.loc[i,\"Contribucions/article\"]=llistaautors.loc[i,\"Numerocontribucions\"]/llistaautors.loc[i,\"Articlescontribuits\"]\n",
    "    i=i+1"
   ]
  },
  {
   "cell_type": "markdown",
   "metadata": {},
   "source": [
    "Un cop disposem de la llista d'autors, ens cal normalitzar les variables per a tal de classificar-les correctament sense que l'escala de cadascuna d'elles sigui influent."
   ]
  },
  {
   "cell_type": "code",
   "execution_count": 14,
   "metadata": {
    "collapsed": true
   },
   "outputs": [],
   "source": [
    "X=llistaautors.iloc[:,1:6]\n",
    "X=X.apply(lambda x: (x - np.mean(x)) / (np.max(x) - np.min(x)))"
   ]
  },
  {
   "cell_type": "markdown",
   "metadata": {},
   "source": [
    "Un cop fet això, apliquem l'algoritme K-means per a trobar una bona agrupació dels autors en 3 grups (escollit arbitràriament), i mostrem gràficament les parelles de variables més rellevants."
   ]
  },
  {
   "cell_type": "code",
   "execution_count": 15,
   "metadata": {
    "collapsed": true
   },
   "outputs": [],
   "source": [
    "kmeans = KMeans(n_clusters=3, random_state=0,init=\"k-means++\").fit(X)\n",
    "kmeans.cluster_centers_\n",
    "colormap = np.array(['red','black','blue'])"
   ]
  },
  {
   "cell_type": "markdown",
   "metadata": {},
   "source": [
    "L'encreuament de variables que permet veure més clarament aquelles que el K-means ha donat més importància és el percentatge de contribució mitjana d'un autor i el seu període d'activitat, i com pot comprovar-se també, la visualització en dues dimensions d'altres variables, podem mostrar aquelles on es diferencien els grups, però hi ha unes fronteres menys definides."
   ]
  },
  {
   "cell_type": "code",
   "execution_count": 16,
   "metadata": {},
   "outputs": [
    {
     "data": {
      "image/png": "[encoded data removed]",
      "text/plain": [
       "<matplotlib.figure.Figure at 0x10a4d7828>"
      ]
     },
     "metadata": {},
     "output_type": "display_data"
    }
   ],
   "source": [
    "plt.scatter(X.iloc[:,1], X.iloc[:,4], c=colormap[kmeans.labels_], s=40)\n",
    "plt.title('K Mean Classification')\n",
    "plt.xlabel(\"Contribucio Mitjana\")\n",
    "plt.ylabel(\"Periode d'Activitat\")\n",
    "plt.show()"
   ]
  },
  {
   "cell_type": "code",
   "execution_count": 17,
   "metadata": {},
   "outputs": [
    {
     "data": {
      "image/png": "[encoded data removed]",
      "text/plain": [
       "<matplotlib.figure.Figure at 0x10a4c2da0>"
      ]
     },
     "metadata": {},
     "output_type": "display_data"
    }
   ],
   "source": [
    "plt.scatter(X.iloc[:,2], X.iloc[:,4], c=colormap[kmeans.labels_], s=40)\n",
    "plt.title('K Mean Classification')\n",
    "plt.xlabel(\"Numero de Contribucions\")\n",
    "plt.ylabel(\"Periode d'Activitat\")\n",
    "plt.show()"
   ]
  },
  {
   "cell_type": "code",
   "execution_count": 18,
   "metadata": {},
   "outputs": [
    {
     "data": {
      "image/png": "[encoded data removed]",
      "text/plain": [
       "<matplotlib.figure.Figure at 0x10a2c5860>"
      ]
     },
     "metadata": {},
     "output_type": "display_data"
    }
   ],
   "source": [
    "plt.scatter(X.iloc[:,1], X.iloc[:,3], c=colormap[kmeans.labels_], s=40) \n",
    "plt.title('K Mean Classification')\n",
    "plt.xlabel(\"Contribucio Mitjana\")\n",
    "plt.ylabel(\"Articles Contribuits\")\n",
    "plt.show()"
   ]
  },
  {
   "cell_type": "markdown",
   "metadata": {},
   "source": [
    "L'encreuament d'altres variables dóna uns resultats gens informatius a nivell visual."
   ]
  },
  {
   "cell_type": "markdown",
   "metadata": {},
   "source": [
    "# Bootstrap i Inferència\n",
    "\n",
    "En aquest apartat es busca avaluar si treballant amb una sub-mostra, podem inferir algun dels paràmetres de la xarxa global. Per a tal finalitat es realitzarà un bootstrap per casos, i per altra banda un mostreig clàssic, per a veure si el paràmetre poblacional s'inclou dins de les submostres."
   ]
  },
  {
   "cell_type": "code",
   "execution_count": null,
   "metadata": {
    "collapsed": true
   },
   "outputs": [],
   "source": [
    "import pandas as pd\n",
    "import networkx as nx\n",
    "import numpy as np\n",
    "import matplotlib.pyplot as plt\n",
    "from bokeh.charts import Histogram\n",
    "import tqdm as tqdm\n",
    " \n",
    "df=pd.read_csv(\"WesC_clean.csv\",sep=\",\",header=0,index_col=0,nrows=1000000)\n",
    "df = df.drop('DataN.1', 1)\n",
    "df = df.drop('Data', 1) #Eliminar el temps\n",
    "\n",
    "df.Autor=df.Autor.astype(int)\n",
    "df.Autor= \"Aut. \" + df.Autor.astype(str)\n",
    "df=df.sample(5000)\n",
    "G=nx.from_pandas_dataframe(df,source=\"Autor\",target=\"Article\")"
   ]
  },
  {
   "cell_type": "markdown",
   "metadata": {},
   "source": [
    "Creem una xarxa de 5000 edicions, d'entre el primer milió d'edicions de la base de dades completa. No és possible avaluar amb un temps raonable depèn de quin aspecte d'una xarxa de més de 5000 edicions, com pot ser el betweenness centrality, és a dir, el nombre de camins curts que passen per cada node, ja que el temps de càlcul creix enormement al augmentar la mostra. S'han escollit com a paràmetres a estimar el quocient entre Nodes i Vèrtexs, la mitjana de betweenness centrality de la xarxa i el percentatge màxim de camins curts que passen per un node concret. A continuació avaluem els paràmetres de la xarxa que considerem global:"
   ]
  },
  {
   "cell_type": "code",
   "execution_count": null,
   "metadata": {
    "collapsed": true
   },
   "outputs": [],
   "source": [
    "valorpoblacional=float(G.order())/G.size()\n",
    "betweenness=nx.betweenness_centrality(G)\n",
    "valorpoblacional2=np.mean(betweenness.values())\n",
    "valorpoblacional3=np.max(betweenness.values())"
   ]
  },
  {
   "cell_type": "markdown",
   "metadata": {},
   "source": [
    " I creem els objectes per a guardar els resultats del bootstrap i dels mostrejos:"
   ]
  },
  {
   "cell_type": "code",
   "execution_count": null,
   "metadata": {
    "collapsed": true
   },
   "outputs": [],
   "source": [
    "size=500 #Mida de les mostres\n",
    "rep=1000 #Nombre de repeticions\n",
    "dfboot=df.sample(size)\n",
    "bootlist=list()\n",
    "bootlist2=list()\n",
    "bootlist3=list()\n",
    "samplelist=list()\n",
    "samplelist2=list()\n",
    "samplelist3=list()"
   ]
  },
  {
   "cell_type": "markdown",
   "metadata": {},
   "source": [
    "A continuació el loop on generem les mostres bootstrap i els mostrejos clàssics, i anem guardant els resultats."
   ]
  },
  {
   "cell_type": "code",
   "execution_count": null,
   "metadata": {
    "collapsed": true
   },
   "outputs": [],
   "source": [
    "for i in tqdm.tqdm(xrange(0,rep)):\n",
    "    dfbootaux=dfboot.sample(size,replace=True)\n",
    "    Gboot=nx.from_pandas_dataframe(dfbootaux,source=\"Autor\",target=\"Article\")\n",
    "    bootlist.append(float(Gboot.order())/Gboot.size())#Average Degree\n",
    "    betboot=nx.betweenness_centrality(Gboot).values()\n",
    "    bootlist2.append(np.mean(betboot))#Average Degree\n",
    "    bootlist3.append(np.max(betboot))\n",
    "    dfsample=df.sample(size)\n",
    "    Gsample=nx.from_pandas_dataframe(dfsample,source=\"Autor\",target=\"Article\")\n",
    "    samplelist.append(float(Gsample.order())/Gsample.size())#Average Degree\n",
    "    betsample=nx.betweenness_centrality(Gsample).values()\n",
    "    samplelist2.append(np.mean(betsample))#Average Degree\n",
    "    samplelist3.append(np.max(betsample))"
   ]
  },
  {
   "cell_type": "markdown",
   "metadata": {},
   "source": [
    "Els resultats referents al quocient Nodes/Vèrtexs:"
   ]
  },
  {
   "cell_type": "code",
   "execution_count": null,
   "metadata": {
    "collapsed": true
   },
   "outputs": [],
   "source": [
    "print valorpoblacional\n",
    "print np.percentile(bootlist,[5,95])\n",
    "print np.percentile(samplelist,[5,95])"
   ]
  },
  {
   "cell_type": "markdown",
   "metadata": {},
   "source": [
    "Els resultats referents a la mitjana del Betweenness Centrality"
   ]
  },
  {
   "cell_type": "code",
   "execution_count": null,
   "metadata": {
    "collapsed": true
   },
   "outputs": [],
   "source": [
    "print valorpoblacional2\n",
    "print np.percentile(bootlist2,[5,95])\n",
    "print np.percentile(samplelist2,[5,95])"
   ]
  },
  {
   "cell_type": "markdown",
   "metadata": {},
   "source": [
    "I finalment els resultats corresponents al percentatge màxim de camins curts que passen per un sol node:"
   ]
  },
  {
   "cell_type": "code",
   "execution_count": null,
   "metadata": {
    "collapsed": true
   },
   "outputs": [],
   "source": [
    "print valorpoblacional3\n",
    "print np.percentile(bootlist3,[5,95])\n",
    "print np.percentile(samplelist3,[5,95])"
   ]
  },
  {
   "cell_type": "markdown",
   "metadata": {},
   "source": [
    "En cap dels 3 paràmetres observats, el valor poblacional cau dins dels intervals de credibilitat bootstrap basats en el percentil, ni apareix en els percentils d'un mostreig clàssic (per a fer-ne una comparació). El qual ens porta a la conclusió que l'estructura en xarxa no es pot estudiar amb una mostra del total, ja que es perden els valors reals de la xarxa. Així doncs, una xarxa s'ha d'entendre com un total, i estudiar-ne sub-mostres no permet estimar els paràmetres globals.\n",
    "\n",
    "Per a futurs treballs sobre el tema, s'hauria d'estudiar si els nodes més importants de la xarxa global, acaben sent els mateixos que a les submostren, i amb quina freqüència."
   ]
  },
  {
   "cell_type": "code",
   "execution_count": null,
   "metadata": {
    "collapsed": true
   },
   "outputs": [],
   "source": []
  }
 ],
 "metadata": {
  "kernelspec": {
   "display_name": "Python 2",
   "language": "python",
   "name": "python2"
  },
  "language_info": {
   "codemirror_mode": {
    "name": "ipython",
    "version": 2
   },
   "file_extension": ".py",
   "mimetype": "text/x-python",
   "name": "python",
   "nbconvert_exporter": "python",
   "pygments_lexer": "ipython2",
   "version": "2.7.13"
  }
 },
 "nbformat": 4,
 "nbformat_minor": 2
}
